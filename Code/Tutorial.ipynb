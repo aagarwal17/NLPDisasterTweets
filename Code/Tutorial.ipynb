{
 "cells": [
  {
   "cell_type": "markdown",
   "id": "1ac01ca5-cbeb-412b-b117-3a791e5012f9",
   "metadata": {},
   "source": [
    "## NLP Getting Started Tutorial:\n",
    "\n",
    "My work following a NLP Starter Tutorial with relevance to this project so that I can get a better understanding of how to do NLP tasks\n",
    "\n",
    "Arun Agarwal\n",
    "1/31/2023-2/1/2023"
   ]
  },
  {
   "cell_type": "code",
   "execution_count": 1,
   "id": "082548ec-f41c-4c71-8cde-a5f759120543",
   "metadata": {},
   "outputs": [
    {
     "name": "stderr",
     "output_type": "stream",
     "text": [
      "C:\\Users\\aruna\\anaconda3\\lib\\site-packages\\scipy\\__init__.py:138: UserWarning: A NumPy version >=1.16.5 and <1.23.0 is required for this version of SciPy (detected version 1.23.4)\n",
      "  warnings.warn(f\"A NumPy version >={np_minversion} and <{np_maxversion} is required for this version of \"\n"
     ]
    }
   ],
   "source": [
    "# Library Imports:\n",
    "import numpy as np\n",
    "import pandas as pd\n",
    "from sklearn import feature_extraction, linear_model, model_selection, preprocessing"
   ]
  },
  {
   "cell_type": "code",
   "execution_count": 2,
   "id": "2715ff45-3781-4dab-a70c-645b1368499f",
   "metadata": {},
   "outputs": [],
   "source": [
    "train_df = pd.read_csv(\"../Data/train.csv\")\n",
    "test_df = pd.read_csv(\"../Data/test.csv\")"
   ]
  },
  {
   "cell_type": "markdown",
   "id": "ff9ffe1f-6415-4139-aaea-a904ab5f9ab9",
   "metadata": {},
   "source": [
    "#### Building Vectors:\n",
    "We use sckit-learn's CountVectorizer to count the words in each tweet and turn them into data our machine learning model can process"
   ]
  },
  {
   "cell_type": "code",
   "execution_count": 6,
   "id": "27798ff3-eda6-443e-a129-95af0ef9cdfb",
   "metadata": {},
   "outputs": [],
   "source": [
    "count_vectorizer = feature_extraction.text.CountVectorizer()\n",
    "\n",
    "train_vectors = count_vectorizer.fit_transform(train_df['text'])\n",
    "\n",
    "#For test_vectors, we only use .transform() function b/c we need that the train and test vectors use the same set of tokens\n",
    "test_vectors = count_vectorizer.transform(test_df[\"text\"])"
   ]
  },
  {
   "cell_type": "markdown",
   "id": "67e4492e-3668-4519-9b24-9e58bf3bebf3",
   "metadata": {},
   "source": [
    "#### Building Model:\n",
    "We use the words contained in each tweet as the predictor variable for real/fake disaster tweet (1/0). We assume a linear model/connection in this tutorial"
   ]
  },
  {
   "cell_type": "code",
   "execution_count": 8,
   "id": "c8978428-721e-48f6-8618-f5aa92cb7918",
   "metadata": {},
   "outputs": [
    {
     "name": "stdout",
     "output_type": "stream",
     "text": [
      "Scores:  [0.59421842 0.56498283 0.64149093]\n"
     ]
    }
   ],
   "source": [
    "# Since the vectors are big, we want to push the model's weights toward 0 without completely discounting different words\n",
    "# Thus, we use Ridge Regression\n",
    "clf = linear_model.RidgeClassifier()\n",
    "# cv = 3 means we are using Three-Fold Cross Validation\n",
    "scores = model_selection.cross_val_score(clf, train_vectors, train_df['target'], cv = 3, scoring = \"f1\")\n",
    "print(\"Scores: \", scores)"
   ]
  },
  {
   "cell_type": "markdown",
   "id": "45982574-4389-4969-b0af-0f9298f674cc",
   "metadata": {},
   "source": [
    "Ways to improve this score: Do TFIDF, LSA, LSTM/RNNs, etc"
   ]
  },
  {
   "cell_type": "markdown",
   "id": "770bb5fc-df9f-4116-977d-4797f19ed07d",
   "metadata": {},
   "source": [
    "#### Predictions and Submission File:"
   ]
  },
  {
   "cell_type": "code",
   "execution_count": 10,
   "id": "eb8f4478-1117-40e1-804d-f007823d3dbf",
   "metadata": {},
   "outputs": [],
   "source": [
    "clf.fit(train_vectors, train_df['target'])\n",
    "tutorial_submission = pd.read_csv(\"../Data/sample_submission.csv\")\n",
    "tutorial_submission['target'] = clf.predict(test_vectors)\n",
    "tutorial_submission.to_csv(\"../Result Files/submission.csv\", index = False)"
   ]
  },
  {
   "cell_type": "code",
   "execution_count": null,
   "id": "9d829ad9-be23-48dc-8acc-694cb60ccafe",
   "metadata": {},
   "outputs": [],
   "source": []
  }
 ],
 "metadata": {
  "kernelspec": {
   "display_name": "Python 3 (ipykernel)",
   "language": "python",
   "name": "python3"
  },
  "language_info": {
   "codemirror_mode": {
    "name": "ipython",
    "version": 3
   },
   "file_extension": ".py",
   "mimetype": "text/x-python",
   "name": "python",
   "nbconvert_exporter": "python",
   "pygments_lexer": "ipython3",
   "version": "3.8.8"
  }
 },
 "nbformat": 4,
 "nbformat_minor": 5
}
